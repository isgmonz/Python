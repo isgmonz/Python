{
 "cells": [
  {
   "cell_type": "markdown",
   "metadata": {},
   "source": [
    "Hola Mundo"
   ]
  },
  {
   "cell_type": "code",
   "execution_count": 2,
   "metadata": {},
   "outputs": [
    {
     "name": "stdout",
     "output_type": "stream",
     "text": [
      "Hola mundo\n"
     ]
    }
   ],
   "source": [
    "print(\"Hola mundo\")"
   ]
  },
  {
   "cell_type": "code",
   "execution_count": 2,
   "metadata": {},
   "outputs": [
    {
     "name": "stdout",
     "output_type": "stream",
     "text": [
      "['h', 'n', 'u', 'l', ' ', 'm', 'a', 'd', 'o']\n"
     ]
    }
   ],
   "source": [
    "lista_1 = [\"h\",'o','l','a',' ', 'm','u','n','d','o']\n",
    "lista_2 = [\"h\",'o','l','a',' ', 'l','u','n','a']\n",
    "nueva_lista = []\n",
    "s1=set(lista_1)\n",
    "s2=set(lista_2)\n",
    "nueva_lista=[*s1.union(s2)]\n",
    "print(nueva_lista)\n",
    "\n",
    "\n"
   ]
  },
  {
   "cell_type": "markdown",
   "metadata": {},
   "source": [
    "\n",
    "->I also developed various internal modules for generating reports using tools such as office.interop, Excel, Power BI. Additionally, I managed databases like MySQL and SQL Server to store, retrieve, and transform data according to business needs. This involved creating relational diagrams along with designing tables, relationships, queries, functions, triggers, and stored procedures, always aiming for optimal performance when making requests.\n",
    "# > \n",
    "2. Performed code maintenance and debugging tasks by identifying and resolving bugs, as well as seeking opportunities for improving code quality and response times.\n",
    "# >\n",
    "3. I was responsible for implementing business logic in various modules, considering aspects such as validations, functional requirements, estimation of delivery times, authentication, and security policies, among others."
   ]
  },
  {
   "cell_type": "markdown",
   "metadata": {},
   "source": [
    "\n",
    "-->Design and development of APIs and microservices (REST and GraphQL).\n",
    "\n",
    "-->Design, code and maintain SQL stored procedures and functions always aiming for optimal performance.\n",
    "\n",
    "-->Developed internal modules for generating reports using tools such as office.interop, Excel, Power BI. \n",
    "\n",
    "-->Designing and implementing performance data movement pipelines using multiple ETL tools with batch and real-time event data streams (Databricks, Apache Kafka, Azure Event Hub, AWS Kinesis, SQL Packages, etc.)\n",
    "\n",
    "--> I performed code maintenance and debugging tasks by identifying and resolving bugs, as well as seeking opportunities for improving code quality and response times.\n",
    "\n",
    "-->Establish and enforce data security protocols to protect sensitive information and ensure compliance with data protection regulations."
   ]
  }
 ],
 "metadata": {
  "kernelspec": {
   "display_name": "Python 3",
   "language": "python",
   "name": "python3"
  },
  "language_info": {
   "codemirror_mode": {
    "name": "ipython",
    "version": 3
   },
   "file_extension": ".py",
   "mimetype": "text/x-python",
   "name": "python",
   "nbconvert_exporter": "python",
   "pygments_lexer": "ipython3",
   "version": "3.11.4"
  },
  "orig_nbformat": 4
 },
 "nbformat": 4,
 "nbformat_minor": 2
}
